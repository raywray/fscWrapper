{
 "cells": [
  {
   "cell_type": "code",
   "execution_count": 3,
   "metadata": {},
   "outputs": [
    {
     "data": {
      "text/plain": [
       "False"
      ]
     },
     "execution_count": 3,
     "metadata": {},
     "output_type": "execute_result"
    }
   ],
   "source": [
    "\n",
    "\n",
    "random.choice([True, False])"
   ]
  },
  {
   "cell_type": "code",
   "execution_count": 5,
   "metadata": {},
   "outputs": [
    {
     "data": {
      "text/plain": [
       "[0, 1, 2, 3, 4]"
      ]
     },
     "execution_count": 5,
     "metadata": {},
     "output_type": "execute_result"
    }
   ],
   "source": [
    "if add_ghost:\n",
    "    ghost_role = random.choice([\"root\", \"leaf\"])\n",
    "    if ghost_role == \"root\":\n",
    "        roots.append(wrm_index + 1)\n",
    "    else:\n",
    "        leaves.append(wrm_index + 1)"
   ]
  },
  {
   "cell_type": "code",
   "execution_count": 10,
   "metadata": {},
   "outputs": [
    {
     "data": {
      "text/plain": [
       "[2]"
      ]
     },
     "execution_count": 10,
     "metadata": {},
     "output_type": "execute_result"
    }
   ],
   "source": [
    "x=2\n",
    "y=[]\n",
    "y.append(x)\n",
    "y"
   ]
  },
  {
   "cell_type": "code",
   "execution_count": 22,
   "metadata": {},
   "outputs": [
    {
     "data": {
      "text/plain": [
       "[3]"
      ]
     },
     "execution_count": 22,
     "metadata": {},
     "output_type": "execute_result"
    }
   ],
   "source": [
    "random.sample([1,2,3,4,3,5], 1)"
   ]
  },
  {
   "cell_type": "code",
   "execution_count": 14,
   "metadata": {},
   "outputs": [
    {
     "name": "stdout",
     "output_type": "stream",
     "text": [
      "[2]\n",
      "[0, 2]\n"
     ]
    },
    {
     "ename": "ValueError",
     "evalue": "list.remove(x): x not in list",
     "output_type": "error",
     "traceback": [
      "\u001b[0;31m---------------------------------------------------------------------------\u001b[0m",
      "\u001b[0;31mValueError\u001b[0m                                Traceback (most recent call last)",
      "Cell \u001b[0;32mIn[14], line 164\u001b[0m\n\u001b[1;32m    157\u001b[0m     \u001b[38;5;28;01mreturn\u001b[39;00m write_tpl_file(fn, num_pop, pop_name, pop_size, [\u001b[38;5;124m'\u001b[39m\u001b[38;5;124m0\u001b[39m\u001b[38;5;124m'\u001b[39m] \u001b[38;5;241m*\u001b[39m \u001b[38;5;28mlen\u001b[39m(growth_rates), mig_matrix, [\u001b[38;5;124mf\u001b[39m\u001b[38;5;124m\"\u001b[39m\u001b[38;5;132;01m{\u001b[39;00m\u001b[38;5;28mlen\u001b[39m(historical_events)\u001b[38;5;132;01m}\u001b[39;00m\u001b[38;5;124m historical events\u001b[39m\u001b[38;5;124m\"\u001b[39m] \u001b[38;5;241m+\u001b[39m historical_events[::\u001b[38;5;241m-\u001b[39m\u001b[38;5;241m1\u001b[39m])\n\u001b[1;32m    161\u001b[0m \u001b[38;5;66;03m# TODO modify this function when the time comes\u001b[39;00m\n\u001b[0;32m--> 164\u001b[0m \u001b[43mrandom_initializations\u001b[49m\u001b[43m(\u001b[49m\u001b[43m)\u001b[49m\n\u001b[1;32m    165\u001b[0m \u001b[38;5;66;03m# if NUM_OF_GROUPS==1:\u001b[39;00m\n\u001b[1;32m    166\u001b[0m \u001b[38;5;66;03m#     # NUM_OF_TOPOLOGIES=1\u001b[39;00m\n\u001b[1;32m    167\u001b[0m \u001b[38;5;66;03m#     write_est_file(\"test1.est\",\"0\",\"0\")\u001b[39;00m\n\u001b[1;32m    168\u001b[0m \u001b[38;5;66;03m#     write_tpl_file(\"test2.tpl\",\"0\",\"0\",\"0\",\"0\",\"0\",\"0\")\u001b[39;00m\n",
      "Cell \u001b[0;32mIn[14], line 147\u001b[0m, in \u001b[0;36mrandom_initializations\u001b[0;34m()\u001b[0m\n\u001b[1;32m    145\u001b[0m         \u001b[38;5;28;01melse\u001b[39;00m:\n\u001b[1;32m    146\u001b[0m             leaves\u001b[38;5;241m.\u001b[39mappend(w_index\u001b[38;5;241m+\u001b[39m\u001b[38;5;241m1\u001b[39m)\n\u001b[0;32m--> 147\u001b[0m     divergence_events \u001b[38;5;241m=\u001b[39m \u001b[43mrandomize_divergence_order\u001b[49m\u001b[43m(\u001b[49m\u001b[43mroots\u001b[49m\u001b[43m,\u001b[49m\u001b[43m \u001b[49m\u001b[43mleaves\u001b[49m\u001b[43m,\u001b[49m\u001b[43m \u001b[49m\u001b[43msplit_SF\u001b[49m\u001b[43m,\u001b[49m\u001b[43m \u001b[49m\u001b[43madd_ghost\u001b[49m\u001b[43m)\u001b[49m\n\u001b[1;32m    148\u001b[0m     historical_events \u001b[38;5;241m=\u001b[39m divergence_events\n\u001b[1;32m    149\u001b[0m \u001b[38;5;66;03m# Raya code here for migration matrix generation.\u001b[39;00m\n",
      "Cell \u001b[0;32mIn[14], line 98\u001b[0m, in \u001b[0;36mrandomize_divergence_order\u001b[0;34m(root_population_indices, leaf_population_indices, *args)\u001b[0m\n\u001b[1;32m     96\u001b[0m \u001b[38;5;28mprint\u001b[39m(possible_leaves)\n\u001b[1;32m     97\u001b[0m \u001b[38;5;66;03m# TODO Uncomment once all functions are functional\u001b[39;00m\n\u001b[0;32m---> 98\u001b[0m \u001b[43mpossible_leaves\u001b[49m\u001b[38;5;241;43m.\u001b[39;49m\u001b[43mremove\u001b[49m\u001b[43m(\u001b[49m\u001b[43moffshoot\u001b[49m\u001b[43m)\u001b[49m\n\u001b[1;32m     99\u001b[0m \u001b[38;5;66;03m# possible_leaves = set(possible_leaves) - set(offshoot)\u001b[39;00m\n\u001b[1;32m    100\u001b[0m rev_migration_matrix_index \u001b[38;5;241m-\u001b[39m\u001b[38;5;241m=\u001b[39m \u001b[38;5;241m1\u001b[39m\n",
      "\u001b[0;31mValueError\u001b[0m: list.remove(x): x not in list"
     ]
    }
   ],
   "source": [
    "import random\n",
    "\n",
    "NUM_OF_GROUPS=1\n",
    "TDIV=0\n",
    "TPLUS01=0\n",
    "SAMPLE_SIZES=[1]\n",
    "MUT_RATE=6e-8\n",
    "\n",
    "def write_est_file(file_name, simple_params, complex_params):\n",
    "    lines=[\n",
    "        \"// Priors and rules file\",\n",
    "        \"// *********************\",\n",
    "        \"\",\n",
    "        \"[PARAMETERS]\",\n",
    "        \"0 MUTRATE unif 1e-7 1e-9 output\",\n",
    "        simple_params,\n",
    "        \"\",\n",
    "        \"[COMPLEX PARAMETERS]\",\n",
    "        \"\",\n",
    "        complex_params\n",
    "    ]\n",
    "    \n",
    "    with open(file_name,\"w\") as fout:\n",
    "        fout.writelines('\\n'.join(lines))\n",
    "\n",
    "def write_tpl_file(file_name, num_pops, Ne, sample_sizes, growth_rates, mig_info, historical_events):\n",
    "    lines=[\n",
    "        \"//Number of population samples (demes)\",\n",
    "        num_pops,\n",
    "        \"//Population effective sizes (number of genes)\",\n",
    "        Ne,\n",
    "        \"//Sample sizes\",\n",
    "        sample_sizes,\n",
    "        \"//Growth rates : negative growth implies population expansion\",\n",
    "        growth_rates,\n",
    "        \"//Number of migration matrices : 0 implies no migration between demes\",\n",
    "        mig_info,\n",
    "        \"//historical event: time, source, sink, migrants, new deme size, growth rate, migr mat index\",\n",
    "        historical_events,\n",
    "        \"//Number of independent loci [chromosome]\",\n",
    "        \"1 0\",\n",
    "        \"//Per chromosome: Number of contiguous linkage Block: a block is a set of contiguous loci\",\n",
    "        \"1\",\n",
    "        \"//per Block:data type, number of loci, per gen recomb and mut rates\",\n",
    "        \"FREQ 1 0 MUTRATE OUTEXP\"\n",
    "    ]\n",
    "\n",
    "    with open(file_name,\"w\") as fout:\n",
    "        fout.writelines('\\n'.join(lines))\n",
    "        \n",
    "    \n",
    "def current_migration_matrix(num_populations, *args):\n",
    "    current_matrix = [\"//Migration matrix 0\"]\n",
    "    \n",
    "    for i in range(1, num_populations + 1):\n",
    "        matrix_row = []\n",
    "        for j in range(1, num_populations + 1):\n",
    "            if i == j:\n",
    "                matrix_at_i_j = \"0\"\n",
    "            else:\n",
    "                from_pop = population_name(index = j-1, *args)\n",
    "                to_pop = population_name(index = i-1, *args)\n",
    "                matrix_at_i_j = f\"MIG_{from_pop}to{to_pop}\"\n",
    "                \n",
    "            matrix_row.append(matrix_at_i_j)\n",
    "        current_matrix.append(\" \".join(matrix_row))\n",
    "    return(current_matrix)\n",
    "\n",
    "\n",
    "def oldest_migration_matrix(num_populations):\n",
    "    oldest_matrix = f\"//Migration matrix {num_populations - 1}\"\n",
    "    temp = [[\"0\"] * num_populations for _ in range(num_populations)]\n",
    "    oldest_matrix = [oldest_matrix] + [\" \".join(row) for row in temp]\n",
    "    return oldest_matrix\n",
    "\n",
    "def randomize_divergence_order(root_population_indices, leaf_population_indices, *args):\n",
    "    migrants = 1\n",
    "    growth_rate = 0\n",
    "    output = []\n",
    "    possible_roots = root_population_indices.copy()\n",
    "    possible_leaves = leaf_population_indices.copy()\n",
    "    rev_migration_matrix_index = len(leaf_population_indices)\n",
    "\n",
    "    while len(possible_leaves) > 0:\n",
    "        root = random.sample(possible_roots, 1)\n",
    "        offshoot = random.sample(possible_leaves, 1)\n",
    "        print(offshoot)\n",
    "        root_name = population_name(index=root)\n",
    "        offshoot_name = population_name(index=offshoot)\n",
    "        time = f\"TDIV_{root_name}to{offshoot_name}\"\n",
    "        new_deme_size = f\"RES_{root_name}to{offshoot_name}\"\n",
    "        output.append(\n",
    "            \" \".join(map(str, [time, offshoot, root, migrants, new_deme_size, growth_rate, rev_migration_matrix_index]))\n",
    "        )\n",
    "        possible_roots.append(offshoot)\n",
    "        print(possible_leaves)\n",
    "        # TODO Uncomment once all functions are functional\n",
    "        possible_leaves.remove(offshoot)\n",
    "        # possible_leaves = set(possible_leaves) - set(offshoot)\n",
    "        rev_migration_matrix_index -= 1\n",
    "\n",
    "    return output\n",
    "\n",
    "# # Assuming population_name function is defined elsewhere\n",
    "# def population_name(index):\n",
    "#     # Add your implementation of population_name\n",
    "#     pass\n",
    "\n",
    "# def population_name(index):\n",
    "#     if index == 0:\n",
    "#         return \"RAYA\"\n",
    "#     else:\n",
    "#         return \"TREVOR\"\n",
    "def matrix_generation(*args):\n",
    "    return []\n",
    "def growth_rates(*args):\n",
    "    return [0]\n",
    "def population_size(*args):\n",
    "    return 0\n",
    "def population_name(index=None, split_SF=False, ghost_present=False):\n",
    "    if not split_SF:\n",
    "        populations = [\"SF\", \"WRM\"]\n",
    "    else:\n",
    "        populations = [\"SFWC\", \"SFP\", \"WRM\"]\n",
    "    if ghost_present:\n",
    "        populations.append(\"G\")\n",
    "    if index is None:\n",
    "        index = list(range(len(populations)))\n",
    "    else:\n",
    "        index = [i - 1 for i in index]\n",
    "    return [populations[i] for i in index]\n",
    "\n",
    "def random_initializations():\n",
    "    add_ghost = random.choice([True, False])\n",
    "    split_SF = random.choice([True, False])\n",
    "    num_pop = 3 if split_SF else 2\n",
    "    num_pop += int(add_ghost)\n",
    "    w_index = num_pop - (2 if add_ghost else 1)\n",
    "    roots = [w_index]\n",
    "    leaves = list(range(w_index))\n",
    "    if add_ghost:\n",
    "        ghost_role = random.choice([\"root\", \"leaf\"])\n",
    "        if ghost_role == \"root\":\n",
    "            roots.append(w_index+1)\n",
    "        else:\n",
    "            leaves.append(w_index+1)\n",
    "    divergence_events = randomize_divergence_order(roots, leaves, split_SF, add_ghost)\n",
    "    historical_events = divergence_events\n",
    "# Raya code here for migration matrix generation.\n",
    "    mig_matrix=matrix_generation(num_pop, divergence_events, split_SF)\n",
    "    # Admixture code after divergence here.\n",
    "    growth_rates=growth_rates(num_pop, historical_events, split_SF)\n",
    "    pop_name=population_name(0)\n",
    "    pop_size=population_size(split_SF)\n",
    "    fn=\"sample.tpl\"\n",
    "    \n",
    "    return write_tpl_file(fn, num_pop, pop_name, pop_size, ['0'] * len(growth_rates), mig_matrix, [f\"{len(historical_events)} historical events\"] + historical_events[::-1])\n",
    "\n",
    "    \n",
    "\n",
    "# TODO modify this function when the time comes\n",
    "\n",
    "    \n",
    "random_initializations()\n",
    "# if NUM_OF_GROUPS==1:\n",
    "#     # NUM_OF_TOPOLOGIES=1\n",
    "#     write_est_file(\"test1.est\",\"0\",\"0\")\n",
    "#     write_tpl_file(\"test2.tpl\",\"0\",\"0\",\"0\",\"0\",\"0\",\"0\")\n"
   ]
  }
 ],
 "metadata": {
  "kernelspec": {
   "display_name": "Python 3",
   "language": "python",
   "name": "python3"
  },
  "language_info": {
   "codemirror_mode": {
    "name": "ipython",
    "version": 3
   },
   "file_extension": ".py",
   "mimetype": "text/x-python",
   "name": "python",
   "nbconvert_exporter": "python",
   "pygments_lexer": "ipython3",
   "version": "3.11.0"
  }
 },
 "nbformat": 4,
 "nbformat_minor": 2
}
