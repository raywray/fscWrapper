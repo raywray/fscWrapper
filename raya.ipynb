{
 "cells": [
  {
   "cell_type": "code",
   "execution_count": 44,
   "metadata": {},
   "outputs": [
    {
     "name": "stdout",
     "output_type": "stream",
     "text": [
      "[[\"0 MIG_['SFP']to['SFWC'] MIG_['WRM']to['SFWC']\", \"MIG_['SFWC']to['SFP'] 0 MIG_['WRM']to['SFP']\", \"MIG_['SFWC']to['WRM'] MIG_['SFP']to['WRM'] 0\"], ['//Migration matrix 0', \"0 MIG_['SFP']to['SFWC'] MIG_['WRM']to['SFWC']\", \"MIG_['SFWC']to['SFP'] 0 MIG_['WRM']to['SFP']\", \"MIG_['SFWC']to['WRM'] MIG_['SFP']to['WRM'] 0\"], ['//Migration matrix 2', '0 0 0', '0 0 0', '0 0 0']]\n"
     ]
    },
    {
     "data": {
      "text/plain": [
       "[['0 MIG_SFPtoSFWC MIG_WRMtoSFWC',\n",
       "  'MIG_SFWCtoSFP 0 MIG_WRMtoSFP',\n",
       "  'MIG_SFWCtoWRM MIG_SFPtoWRM 0'],\n",
       " ['//Migration matrix 0', '0 0 MIG_WRMtoSFWC', '0 0 0', 'MIG_SFWCtoWRM 0 0'],\n",
       " ['//Migration matrix 2', '0 0 0', '0 0 0', '0 0 0']]"
      ]
     },
     "execution_count": 44,
     "metadata": {},
     "output_type": "execute_result"
    }
   ],
   "source": [
    "import re\n",
    "\n",
    "def oldest_migration_matrix(num_populations):\n",
    "    oldest_matrix = f\"//Migration matrix {num_populations - 1}\"\n",
    "    temp = [[\"0\"] * num_populations for _ in range(num_populations)]\n",
    "    oldest_matrix = [oldest_matrix] + [\" \".join(row) for row in temp]\n",
    "    return oldest_matrix\n",
    "def population_name(index = None, split_SF=False, ghost_present=False):\n",
    "    if not split_SF:\n",
    "        populations = [\"SF\", \"WRM\"]\n",
    "    else:\n",
    "        populations = [\"SFWC\", \"SFP\", \"WRM\"]\n",
    "    if ghost_present:\n",
    "        populations.append(\"G\")\n",
    "    if index == None:\n",
    "        index = list(range(len(populations)))\n",
    "        return [populations[i] for i in index]\n",
    "    return populations[index]\n",
    "def current_migration_matrix(num_populations, **kwargs):\n",
    "    current_matrix = [\"//Migration matrix 0\"]\n",
    "    \n",
    "    for i in range(1, num_populations + 1):\n",
    "        matrix_row = []\n",
    "        for j in range(1, num_populations + 1):\n",
    "            if i == j:\n",
    "                matrix_at_i_j = \"0\"\n",
    "            else:\n",
    "                from_pop = population_name(index = j-1, **kwargs)\n",
    "                to_pop = population_name(index = i-1, **kwargs)\n",
    "                matrix_at_i_j = f\"MIG_{from_pop}to{to_pop}\"\n",
    "                \n",
    "            matrix_row.append(matrix_at_i_j)\n",
    "        current_matrix.append(\" \".join(matrix_row))\n",
    "    return(current_matrix)\n",
    "def matrix_generation(num_pops, divergence_events, **kwargs):\n",
    "    subsequent_matrix = current_migration_matrix(num_populations=num_pops, **kwargs)\n",
    "    output = [subsequent_matrix] \n",
    "    \n",
    "    # # loop throught all divergence events to create matrices going backward in time\n",
    "    for i in reversed(range(len(divergence_events))):\n",
    "        event = divergence_events[i]\n",
    "        subsequent_matrix_index = re.sub(r'T.* ([0-9])$', r'\\1', event)\n",
    "        if int(subsequent_matrix_index) == num_pops - 1:\n",
    "            subsequent_matrix = oldest_migration_matrix(num_pops)\n",
    "        else:\n",
    "            coalescing_population = re.sub(r\"^TDIV_[a-zA-Z]*to([a-zA-Z]*) [0-9].*$\", r\"\\1\", event)\n",
    "           # do this to a matrix without the title element\n",
    "            trimmed_matrix = subsequent_matrix\n",
    "            title = trimmed_matrix.pop(0)\n",
    "            pattern = r\"MIG_{}to[A-Z]*|MIG_[A-Z]*to{}\".format(coalescing_population, coalescing_population)\n",
    "            subsequent_matrix = [\n",
    "                re.sub(\n",
    "                    pattern, \n",
    "                    \"0\", \n",
    "                    line\n",
    "                )\n",
    "                for line in trimmed_matrix\n",
    "            ]\n",
    "            subsequent_matrix.insert(0, title)\n",
    "\n",
    "        # output = output + subsequent_matrix\n",
    "        output.append(subsequent_matrix)\n",
    "    return output\n",
    "\n",
    "num_pops = 3\n",
    "divergence_events = [\"TDIV_WRMtoSFWC 0 2 1 RES_WRMtoSFWC 0 2\", \"TDIV_SFWCtoSFP 1 0 1 RES_SFWCtoSFP 0 1\"]\n",
    "split_SF = True\n",
    "add_ghost = False\n",
    "\n",
    "matrix = matrix_generation(num_pops, divergence_events, split_SF=split_SF, ghost_present=add_ghost)\n",
    "print(matrix)\n",
    "# for el in matrix:\n",
    "#     print(el)\n",
    "[\n",
    "    ['0 MIG_SFPtoSFWC MIG_WRMtoSFWC', \n",
    "     'MIG_SFWCtoSFP 0 MIG_WRMtoSFP', \n",
    "     'MIG_SFWCtoWRM MIG_SFPtoWRM 0'\n",
    "     ], \n",
    "     ['//Migration matrix 0', \n",
    "      '0 0 MIG_WRMtoSFWC', \n",
    "      '0 0 0', \n",
    "      'MIG_SFWCtoWRM 0 0'\n",
    "      ], \n",
    "      [\n",
    "          '//Migration matrix 2', \n",
    "          '0 0 0', \n",
    "          '0 0 0', \n",
    "          '0 0 0'\n",
    "          ]]"
   ]
  }
 ],
 "metadata": {
  "kernelspec": {
   "display_name": "Python 3",
   "language": "python",
   "name": "python3"
  },
  "language_info": {
   "codemirror_mode": {
    "name": "ipython",
    "version": 3
   },
   "file_extension": ".py",
   "mimetype": "text/x-python",
   "name": "python",
   "nbconvert_exporter": "python",
   "pygments_lexer": "ipython3",
   "version": "3.10.12"
  }
 },
 "nbformat": 4,
 "nbformat_minor": 2
}
